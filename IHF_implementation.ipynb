{
 "cells": [
  {
   "cell_type": "markdown",
   "metadata": {},
   "source": [
    "## Part 1: Introduction and Conceptual Framework"
   ]
  },
  {
   "cell_type": "markdown",
   "metadata": {},
   "source": [
    "In classical general relativity, the definitions of conserved quantities like mass and angular momentum are intrinsically linked to spacetime symmetries. The mathematical object that describes such a symmetry is a Killing vector field. A vector field, denoted $\\xi^a$, is a Killing vector if it generates a continuous isometry, meaning that the metric tensor $g_{ab}$ is unchanged by a flow along $\\xi^a$. This condition is expressed by the vanishing of the Lie derivative of the metric with respect to $\\xi^\\mu$:\n",
    "\n",
    "$$\\mathcal{L}_{\\xi} g_{\\mu\\nu} = \\nabla_\\mu \\xi_\\nu + \\nabla_\\nu \\xi_\\mu = 0$$\n",
    "where $\\nabla_\\mu$ is the covariant derivative compatible with $g_{\\mu\\nu}$.\n",
    "\n",
    "The existence of such a vector field implies a conserved quantity along geodesics, providing a rigorous basis for defining the total mass and angular momentum of a system. For stationary, isolated black holes, this approach is perfectly sufficient. The Schwarzschild spacetime, describing a non-rotating black hole, possesses a timelike Killing vector that leads to a conserved energy (mass). The Kerr spacetime, describing a rotating black hole, possesses both a timelike and an axial Killing vector, which allow for the unambiguous definition of both mass and spin angular momentum.\n",
    "\n",
    "However, this nice formalism breaks down in the context of a binary black hole merger. Such a system is fundamentally dynamic: the black holes inspiral, the spacetime geometry ripples and distorts, and mass-energy is radiated away in the form of gravitational waves. A spacetime that is evolving and radiating is neither stationary nor axisymmetric. Consequently, it does not possess the global symmetries required for the existence of exact Killing vector fields. Any definition of spin that relies on their existence is therefore inapplicable.\n",
    "\n",
    "This challenge motivates a search for an alternative definition. A natural candidate for the boundary of a black hole is its event horizon—the global, teleological boundary in spacetime separating events that can send signals to a distant observer from those that cannot. However, the event horizon suffers from a critical flaw for practical computation: its location at any given time depends on the *entire future evolution* of the spacetime. It is impossible for a local observer to locate, and it is computationally impossible to determine during a step-by-step numerical simulation that evolves forward in time. This computational impasse was a primary driver for the development of a new, computable, and physically meaningful framework."
   ]
  },
  {
   "cell_type": "markdown",
   "metadata": {},
   "source": [
    "This paradigm shift is centered on the concept of marginally outer trapped surfaces (MOTS), which are closed, spacelike 2-surfaces that can be located on a single 3D slice of a numerical simulation. An apparent horizon is typically defined as an outermost MOTS.\n",
    "\n",
    "**Isolated Horizons (IH): A State of Equilibrium**\n",
    "An Isolated Horizon provides a quasi-local description of a black hole in equilibrium with its surroundings. It is formally defined as a null 3-hypersurface $H$ on which the expansion of outgoing null rays is zero ($\\Theta=0$), and where the gravitational field is stationary *on* the horizon, even if the spacetime far away is dynamic. This idealization allows for the formulation of black hole mechanics without requiring global stationarity. A key condition on the preferred null normal vector $\\ell^a$ to the horizon is that the intrinsic geometry of the horizon cross-sections is constant along the flow of $\\ell^a$, i.e., $\\mathcal{L}_\\ell q_{AB} = 0$. This condition ensures that the surface gravity is constant across the horizon, leading to a quasi-local zeroth law of black hole thermodynamics.\n",
    "\n",
    "**Dynamical Horizons (DH): The Fully General Case**\n",
    "For a truly evolving black hole, such as during a merger, the Isolated Horizon framework is extended to that of a Dynamical Horizon. A DH is a *spacelike* 3-dimensional manifold that is foliated by MOTS. Unlike an IH, a DH has a net influx of energy and angular momentum, causing its area to increase over time. This framework is powerful because it allows for the derivation of local flux laws that generalize the first and second laws of black hole mechanics. These laws relate the change in the horizon's area, mass, and spin directly to the flux of matter and gravitational radiation crossing the horizon boundary. This provides a direct, computable link between the dynamics of the merger and the properties of the resulting black hole.\n",
    "\n",
    "The development of this quasi-local formalism was not merely an academic exercise to find an alternative to global definitions. It was a fundamental and necessary evolution of the theory, driven directly by the practical challenges and capabilities of numerical relativity. The inability to compute event horizons in real-time forced a re-evaluation of what defines a black hole from an operational standpoint, leading to a new theoretical structure built around the computable concept of apparent horizons."
   ]
  },
  {
   "cell_type": "markdown",
   "metadata": {},
   "source": [
    "#### Important Geometric and Physical Quantities\n",
    "\n",
    "*   **Induced 2-Metric $q_{AB}$**: This is the metric induced on the 2D surface S, which measures distances along the surface. It's computed by projecting the 3D spatial metric $g_{ij}$ (obtained from simulation data) onto the surface.\n",
    "*   **Surface Covariant Derivative $D_A$**: This is the derivative operator compatible with the induced metric $q_{AB}$, allowing for derivatives on the curved 2D surface.\n",
    "*   **Horizon Distortion**: The distortion of the horizon's geometry by a vector field $\\phi^a$ is measured by the Lie derivative of the induced metric, $\\mathcal{L}_\\phi q_{AB}$. For a true Killing vector, this quantity would be zero. In the quasi-local framework, the algorithm seeks to find a $\\phi^a$ that minimizes the integrated magnitude of this distortion, thereby finding the \"best-fit\" symmetry.\n",
    "*   **Rotational 1-form $\\omega_A$**: This 1-form is a crucial quantity that encodes the rotational properties of the spacetime geometry on the horizon, representing the effects of frame-dragging. In the isolated horizon formalism, it is defined via the derivative of the null normal, $D_A \\ell^b = \\omega_A \\ell^b$. For computational purposes, it is calculated from the extrinsic curvature $K_{ab}$ of the 3D slice and the intrinsic metric $q_{AB}$.\n",
    "*   **Approximate Killing Vector $\\phi^A$**: This is the vector field on the horizon surface that best approximates a rotational symmetry. Finding this vector by minimizing the distortion functional is the central computational challenge of the spin calculation algorithm."
   ]
  },
  {
   "cell_type": "markdown",
   "metadata": {},
   "source": [
    "## Part 2: Algorithmic Plan"
   ]
  },
  {
   "cell_type": "markdown",
   "metadata": {},
   "source": [
    "\n",
    "\n",
    "**Table 1: Key Mathematical Objects for Spin Calculation**\n",
    "\n",
    "| Symbol | Name | Definition (in terms of 3D quantities) | Physical Interpretation |\n",
    "| :--- | :--- | :--- | :--- |\n",
    "| $g_{ab}$ | 3D Spatial Metric | Grid function from simulation | Measures distances on the 3D spatial slice. |\n",
    "| $K_{ab}$ | Extrinsic Curvature | Grid function from simulation | Measures how the 3D slice is curved within the 4D spacetime. |\n",
    "| $S$ | Horizon Surface | Locus of points $r(\\theta, \\phi)$ from AHFinder | The 2D boundary of the black hole on a given slice. |\n",
    "| $s^a$ | Surface Normal | $\\nabla_a r / \\|\\nabla r\\|$ (schematic) | Unit vector normal to $S$, lying within the 3D slice. |\n",
    "| $q_{AB}$ | Intrinsic 2-Metric | $g_{ab} - s_a s_b$ (projected onto S) | Measures distances *on* the horizon surface $S$. |\n",
    "| $D_A$ | Surface Covariant Derivative | Covariant derivative compatible with $q_{AB}$ | Derivative operator restricted to the 2D surface. |\n",
    "| $\\omega_A$ | Rotational 1-form | $s^b K_{bA}$ (projected) | Encodes the \"twist\" or rotational frame-dragging on the horizon. |\n",
    "| $\\phi^A$ | Approx. Killing Vector | Vector field on $S$ that minimizes $\\int\\|\\mathcal{L}_\\phi q_{AB}\\|^2 dA$ | The best-fit rotational symmetry axis on the distorted horizon. |"
   ]
  },
  {
   "cell_type": "code",
   "execution_count": null,
   "metadata": {},
   "outputs": [],
   "source": []
  },
  {
   "cell_type": "markdown",
   "metadata": {},
   "source": [
    "This thorn locates marginally outer trapped surfaces on each time slice.\n",
    "*   **Horizon Shape Data**: `AHFinderDirect` produces ASCII data files, typically named like `h.t<timestep>.ah<horizon_num>.gp`, which describe the shape of the horizon. These files contain a set of points on the surface, specified by their angular coordinates ($\\theta$, $\\phi$), the corresponding coordinate radius $r = h(\\theta, \\phi)$, and the derived Cartesian coordinates $(x, y, z)$. The first task of a post-processing module is to parse these files to obtain a discrete representation of the 2D horizon surface.\n",
    "*   **3D Grid Function Data**: The simulation evolves the spacetime geometry, storing the results as 3D grid functions, typically in HDF5 format. The two essential grid functions for this analysis are the components of the 3D spatial metric, $g_{ab}$ (e.g., `gxx`, `gxy`, etc.), and the extrinsic curvature, $K_{ab}$ (e.g., `kxx`, `kxy`, etc.).\n",
    "*   **Interpolation**: This is a critical linking step. The metric and extrinsic curvature data exist on the vertices of a 3D computational grid, while the spin calculation requires their values *on* the 2D horizon surface. Therefore, the 3D grid functions must be interpolated to the $(x, y, z)$ locations of the horizon surface points extracted in the previous step. This procedure yields discrete sets of values for $g_{ab}$ and $K_{ab}$ at each point on the horizon surface."
   ]
  },
  {
   "cell_type": "code",
   "execution_count": null,
   "metadata": {},
   "outputs": [],
   "source": []
  },
  {
   "cell_type": "markdown",
   "metadata": {},
   "source": [
    "\n",
    "\n",
    "*   **The Variational Principle**: The method seeks a vector field $\\phi^A$ tangent to the horizon surface that minimizes the integrated squared \"distortion\" it induces on the horizon's intrinsic geometry. This distortion is measured by the Lie derivative of the intrinsic metric, $\\mathcal{L}_\\phi q_{AB}$. The functional to be minimized is:\n",
    "    $$I[\\phi] = \\oint_S |\\mathcal{L}_\\phi q_{AB}|^2 dA$$\n",
    "*   **Simplification via a Scalar Potential**: To make this problem computationally tractable, the vector field $\\phi^A$ is assumed to be divergence-free on the 2-sphere, $D_A \\phi^A = 0$. This is a property of Killing vectors on a 2-sphere and is a reasonable approximation here. This assumption allows $\\phi^A$ to be expressed as the surface \"curl\" of a scalar potential $\\zeta$:\n",
    "    $$\\phi^A = \\epsilon^{AB} D_B \\zeta$$\n",
    "    where $\\epsilon^{AB}$ is the Levi-Civita tensor (area form) on the 2-surface.\n",
    "*   **The Generalized Eigenvalue Problem**: Substituting the potential $\\zeta$ into the functional $I[\\phi]$ and performing a variational minimization leads to a generalized eigenvalue problem for $\\zeta$. This problem takes the form:\n",
    "    $$A \\zeta = \\lambda B \\zeta$$\n",
    "    Here, $A$ and $B$ are second-order, linear, elliptic differential operators on the sphere, whose explicit forms are constructed from the intrinsic metric $q_{AB}$ and its derivatives. The eigenvector $\\zeta$ corresponding to the smallest non-trivial eigenvalue $\\lambda$ provides the potential for the desired approximate Killing vector. This procedure is typically carried out three times to find three approximately orthogonal rotational vectors corresponding to the global $x$, $y$, and $z$ axes of the simulation.\n",
    "\n",
    "This algorithm represents an elegant and powerful progression of logic. It begins with the ill-defined physical concept of a \"spin axis\" for a distorted, wobbly object. This is translated into a precise physical principle: finding the rotational motion that deforms the object's geometry the least. This principle, in turn, becomes a well-posed mathematical optimization problem in the calculus of variations. Finally, through geometric simplification, this optimization problem is transformed into a standard generalized eigenvalue problem from linear algebra, for which robust and efficient numerical solvers exist. This principled reduction from physics to optimization to linear algebra is what makes the method so effective."
   ]
  },
  {
   "cell_type": "code",
   "execution_count": null,
   "metadata": {},
   "outputs": [],
   "source": []
  },
  {
   "cell_type": "code",
   "execution_count": null,
   "metadata": {},
   "outputs": [],
   "source": []
  },
  {
   "cell_type": "markdown",
   "metadata": {},
   "source": [
    "$$S_a = \\frac{1}{8\\pi} \\oint_S \\omega_B \\phi_a^B dA$$\n",
    "\n",
    "The terms in this integral are:\n",
    "*   $\\omega_A$: The rotational 1-form, computed at each point on the horizon surface using the interpolated values of $g_{ab}$ and $K_{ab}$.\n",
    "*   $\\phi_a^A$: The three approximate Killing vector fields found in Step B (one for each spatial direction $a$).\n",
    "*   $dA$: The differential surface area element, given by $dA = \\sqrt{\\det(q_{AB})} d\\theta d\\phi$, which is also computed from the interpolated metric data.\n",
    "\n",
    "The integral is evaluated numerically. This involves discretizing the horizon surface, calculating the value of the integrand $\\omega_B \\phi_a^B$ at each discrete point, multiplying by the area element $\\Delta A$ of the corresponding surface patch, and summing the results over the entire surface."
   ]
  },
  {
   "cell_type": "code",
   "execution_count": null,
   "metadata": {},
   "outputs": [],
   "source": []
  },
  {
   "cell_type": "markdown",
   "metadata": {},
   "source": [
    "## Part 3: Execution and Visualization"
   ]
  },
  {
   "cell_type": "code",
   "execution_count": null,
   "metadata": {},
   "outputs": [],
   "source": []
  },
  {
   "cell_type": "code",
   "execution_count": null,
   "metadata": {},
   "outputs": [],
   "source": []
  },
  {
   "cell_type": "markdown",
   "metadata": {},
   "source": [
    "## Part 4: Reading List"
   ]
  },
  {
   "cell_type": "markdown",
   "metadata": {},
   "source": [
    "### 4.1 \n",
    ". This article is the ideal starting point. It is explicitly written for a graduate student audience, clearly motivating the need for quasi-local concepts by starting with simple examples like the Schwarzschild spacetime before moving to the general case. It thoroughly explains the limitations of event horizons and provides the essential \"why\" behind the entire formalism.\n",
    "\n",
    "*   **Supporting Recommendations:**\n",
    "    *   **Ashtekar, A., & Krishnan, B. \"Dynamical horizons: energy, angular momentum, fluxes and balance laws\" (2003). arXiv:gr-qc/0308033**.[13] This is a foundational paper detailing the flux laws for dynamical horizons. It is excellent for understanding the physics of how black hole properties evolve in response to infalling radiation.\n",
    "    *   **Ashtekar, A., & Krishnan, B. \"Isolated and Dynamical Horizons and Their Applications\" (2004). Living Reviews in Relativity, 7(1), 10.** A comprehensive and authoritative review from the originators of the formalism, suitable for a deeper dive into the theory.\n",
    "\n",
    "### 4.2 Key Implementation Paper\n",
    "\n",
    "*   **Primary Recommendation:**\n",
    "    *   **Owen, R., et al. \"Black Hole Spin Axis in Numerical Relativity\" (2017). arXiv:1708.07325 [gr-qc]**.[14, 17] This paper is absolutely essential for implementation. It details the precise algorithm used in modern numerical relativity codes (like the SpEC code) to find the approximate Killing vector and compute the spin. It provides the variational principle and the explicit integral formula that must be coded. This is the definitive \"how-to\" guide for the core algorithm.[18]\n",
    "\n",
    "*   **Supporting Recommendation:**\n",
    "    *   **Dreyer, O., et al. \"Black hole quasi-normal modes\" (2003). Phys. Rev. D 67, 024018.**.[19] An early and influential paper that applied these ideas, providing important context on the utility of the formalism.\n",
    "\n",
    "### 4.3 Relevant Software and Framework Documentation\n",
    "\n",
    "*   **NRPy+/2.0 Framework:**\n",
    "    *   **Main Tutorial Notebook**: The primary entry point is the main Jupyter notebook in the official GitHub repository: [github.com/zachetienne/nrpytutorial](https://github.com/zachetienne/nrpytutorial).[20] This notebook serves as a table of contents for all other tutorials.\n",
    "    *   **Specific Tutorial: Interpolation**: `Tutorial-ETK_thorn-Interpolation_to_Arbitrary_Grids_multi_order.ipynb`.[21] This is crucial for understanding how to get data from the 3D grid to the 2D surface, particularly within the Einstein Toolkit ecosystem.\n",
    "    *   **Specific Tutorial: Spherical Harmonics**: The main tutorial links to a module on \"Spin-weighted spherical harmonics\".[3, 20] This is the key resource for implementing the spectral method required to solve the eigenvalue problem on the sphere.\n",
    "\n",
    "*   **Einstein Toolkit (ETK) and Data Formats:**\n",
    "    *   **AHFinderDirect Documentation**: The official ETK thorn guide for `AHFinderDirect` is essential for understanding the parameters and, most importantly, the exact output data format of the horizon finder.[8, 9]\n",
    "    *   **QuasiLocalMeasures Documentation**: This ETK thorn performs calculations similar to the ones proposed here. Its documentation provides valuable context on the overall procedure, required parameters, and data handling within the ETK framework.[19, 22]\n",
    "    *   **Kuibit Post-Processing Library**: The documentation for the `kuibit` Python library, specifically its `cactus_horizons` module, serves as a valuable case study. It shows how a modern analysis tool ingests and handles data from `AHFinderDirect` and `QuasiLocalMeasures`, providing a working example of a similar implementation.[23, 22]"
   ]
  }
 ],
 "metadata": {
  "kernelspec": {
   "display_name": "Python 3",
   "language": "python",
   "name": "python3"
  },
  "language_info": {
   "codemirror_mode": {
    "name": "ipython",
    "version": 3
   },
   "file_extension": ".py",
   "mimetype": "text/x-python",
   "name": "python",
   "nbconvert_exporter": "python",
   "pygments_lexer": "ipython3",
   "version": "3.8.8"
  }
 },
 "nbformat": 4,
 "nbformat_minor": 4
}
