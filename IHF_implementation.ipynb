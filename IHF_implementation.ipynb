{
 "cells": [
  {
   "cell_type": "markdown",
   "metadata": {},
   "source": [
    "Note: this notebook uses the convention of lowercase Greek characters for spacetime indices, lowercase Latin for spatial, and uppercase Latin for indices on a 2D horizon surface"
   ]
  },
  {
   "cell_type": "markdown",
   "metadata": {},
   "source": [
    "## Part 1: Introduction and Conceptual Framework"
   ]
  },
  {
   "cell_type": "markdown",
   "metadata": {},
   "source": [
    "In classical general relativity, the definitions of conserved quantities like mass and angular momentum are intrinsically linked to spacetime symmetries. The mathematical object that describes such a symmetry is a Killing vector field. A vector field, denoted $\\xi^a$, is a Dilling vector if it generates a continuous isometry, meaning that the metric tensor $g_{ab}$ is unchanged by a flow along $\\xi^a$. This condition is expressed by the vanishing of the Lie derivative of the metric with respect to $\\xi^\\mu$:\n",
    "\n",
    "$$\\mathcal{L}_{\\xi} g_{\\mu\\nu} = \\nabla_\\mu \\xi_\\nu + \\nabla_\\nu \\xi_\\mu = 0$$\n",
    "where $\\nabla_\\mu$ is the covariant derivative compatible with $g_{\\mu\\nu}$.\n",
    "\n",
    "The existence of such a vector field implies a conserved quantity along geodesics, providing a rigorous basis for defining the total mass and angular momentum of a system. For stationary, isolated black holes, this approach is perfectly sufficient. The Schwarzschild spacetime, describing a non-rotating black hole, possesses a timelike Killing vector that leads to a conserved energy (mass). The Kerr spacetime, describing a rotating black hole, possesses both a timelike and an axial Killing vector, which allow for the unambiguous definition of both mass and spin angular momentum.\n",
    "\n",
    "However, this nice formalism breaks down in the context of a binary black hole merger. Such a system is fundamentally dynamic: the black holes inspiral, the spacetime geometry ripples and distorts, and mass-energy is radiated away in the form of gravitational waves. A spacetime that is evolving and radiating is neither stationary nor axisymmetric. Consequently, it does not possess the global symmetries required for the existence of exact Killing vector fields. Any definition of spin that relies on their existence is therefore inapplicable.\n",
    "\n",
    "This challenge motivates a search for an alternative definition. A natural candidate for the boundary of a black hole is its event horizon—the global, teleological boundary in spacetime separating events that can send signals to a distant observer from those that cannot. However, the event horizon suffers from a critical flaw for practical computation: its location at any given time depends on the *entire future evolution* of the spacetime. It is impossible for a local observer to locate, and it is computationally impossible to determine during a step-by-step numerical simulation that evolves forward in time. This computational impasse was a primary driver for the development of a new, computable, and physically meaningful framework."
   ]
  },
  {
   "cell_type": "markdown",
   "metadata": {},
   "source": [
    "### Quasi-Local Horizons"
   ]
  },
  {
   "cell_type": "markdown",
   "metadata": {},
   "source": [
    "The solution to the breakdown of global definitions is to adopt a quasi-local approach, which defines physical quantities using only information contained within a finite region of spacetime. This method is centered on the concept of marginally outer trapped surfaces (MOTS), which are closed, spacelike 2-surfaces that can be located on a single 3D slice of a numerical simulation. An apparent horizon is typically defined as an outermost MOTS.\n",
    "\n",
    "**Isolated Horizons (IH): A State of Equilibrium**\n",
    "An Isolated Horizon provides a quasi-local description of a black hole in equilibrium with its surroundings. It is formally defined as a null 3-hypersurface $H$ on which the expansion of outgoing null rays is zero ($\\Theta=0$), and where the gravitational field is stationary *on* the horizon, even if the spacetime far away is dynamic. This idealization allows for the formulation of black hole mechanics without requiring global stationarity. A key condition on the preferred null normal vector $\\ell^a$ to the horizon is that the intrinsic geometry of the horizon cross-sections is constant along the flow of $\\ell^a$, i.e., $\\mathcal{L}_\\ell q_{AB} = 0$. This condition ensures that the surface gravity is constant across the horizon, leading to a quasi-local zeroth law of black hole thermodynamics.\n",
    "\n",
    "**Dynamical Horizons (DH): The Fully General Case**\n",
    "For a truly evolving black hole, such as during a merger, the Isolated Horizon framework is extended to that of a Dynamical Horizon. A DH is a *spacelike* 3-dimensional manifold that is foliated by MOTS. Unlike an IH, a DH has a net influx of energy and angular momentum, causing its area to increase over time. This framework is powerful because it allows for the derivation of local flux laws that generalize the first and second laws of black hole mechanics. These laws relate the change in the horizon's area, mass, and spin directly to the flux of matter and gravitational radiation crossing the horizon boundary. This provides a direct, computable link between the dynamics of the merger and the properties of the resulting black hole.\n",
    "\n",
    "The development of this quasi-local formalism was not merely an academic exercise to find an alternative to global definitions. It was a fundamental and necessary evolution of the theory, driven directly by the practical challenges and capabilities of numerical relativity. The inability to compute event horizons in real-time forced a re-evaluation of what defines a black hole from an operational standpoint, leading to a new theoretical structure built around the computable concept of apparent horizons."
   ]
  },
  {
   "cell_type": "markdown",
   "metadata": {},
   "source": [
    "### Important Geometric and Physical Quantities"
   ]
  },
  {
   "cell_type": "markdown",
   "metadata": {},
   "source": [
    "*   **Induced 2-Metric $q_{AB}$**: This is the metric induced on the 2D surface S, which measures distances along the surface. It's computed by projecting the 3D spatial metric $g_{ij}$ (obtained from simulation data) onto the surface.\n",
    "*   **Surface Covariant Derivative $\\nabla_A$**: This is the derivative operator compatible with the induced metric $q_{AB}$, allowing for derivatives on the curved 2D surface.\n",
    "*   **Horizon Distortion**: The distortion of the horizon's geometry by a vector field $\\phi^a$ is measured by the Lie derivative of the induced metric, $\\mathcal{L}_\\phi q_{AB}$. For a true Killing vector, this quantity would be zero. In the quasi-local framework, the algorithm seeks to find a $\\phi^a$ that minimizes the integrated magnitude of this distortion, thereby finding the \"best-fit\" symmetry.\n",
    "*   **Rotational 1-form $\\omega_A$**: This 1-form is a crucial quantity that encodes the rotational properties of the spacetime geometry on the horizon, representing the effects of frame-dragging. In the isolated horizon formalism, it is defined via the derivative of the null normal, $\\nabla_A \\ell^b = \\omega_A \\ell^b$. For computational purposes, it is calculated from the extrinsic curvature $K_{ab}$ of the 3D slice and the intrinsic metric $q_{AB}$.\n",
    "*   **Approximate Killing Vector (AKV) $\\phi^A$**: This is the vector field on the horizon surface that best approximates a rotational symmetry. Finding this vector by minimizing the distortion functional is the central computational challenge of the spin calculation algorithm."
   ]
  },
  {
   "cell_type": "markdown",
   "metadata": {},
   "source": [
    "## Part 2: Algorithmic Plan"
   ]
  },
  {
   "cell_type": "markdown",
   "metadata": {},
   "source": [
    "**Table 1: Key Mathematical Objects for Spin Calculation**\n",
    "\n",
    "| Symbol | Name | Definition | Physical Interpretation |\n",
    "| :--- | :--- | :--- | :--- |\n",
    "| $g_{ab}$ | 3D Spatial Metric | Grid function from simulation | Measures distances on the 3D spatial slice |\n",
    "| $K_{ab}$ | Extrinsic Curvature | Grid function from simulation | Measures how the 3D slice is curved within the 4D spacetime |\n",
    "| $\\mathcal{H}$ | Horizon Surface | Set of points $h(\\theta, \\phi)$ from BH@HAHA | The 2D boundary of the black hole on a given slice |\n",
    "| $s^a$ | Surface Normal | $\\frac{\\nabla_a r}{\\|\\nabla r\\|}$ | Unit vector normal to $S$, lying within the 3D slice |\n",
    "| $u^\\alpha$ | Timelike Normal | | Unit vector normal to the spatial slice |\n",
    "| $q_{AB}$ | Induced 2-Metric | $\\partial_A x^a \\partial_B x^b g_{ab}$ | Measures distances on the horizon surface $S$ |\n",
    "| $D_A$ | Surface Covariant Derivative | $D_A v^B = \\partial_A v^B + v^C \\Gamma^B_{AC}$ | Derivative operator restricted to the 2D surface |\n",
    "| $D^2$ | Laplacian operator | $h^{AB} D_A D_B$ | Laplacian operator on the 2-surface $\\mathcal{H}$. |\n",
    "| $h^a_A$ | Projector Tangent to the Horizon | $\\delta^a_A + u_A u^a - s_A a^a$ | Projects vectors to be tangent to the horizon surface |\n",
    "| $\\omega_a$ | Rotational 1-form | $(K_{jk} - Kg_{jk})h^j_a s^k$ | Encodes the \"twist\" or rotational frame-dragging on the horizon |\n",
    "| $\\phi^A$ | Approx. Killing Vector | Vector field on $S$ that minimizes $\\int\\|\\mathcal{L}_\\phi q_{AB}\\|^2 dA$ | The best-fit rotational symmetry axis on the distorted horizon |\n",
    "| $dA$ | Invariant area element on the AH surface | $\\sqrt{\\|q\\|} d\\theta d\\phi \\\\$ where $\\|q\\|$ is the determinant of $q_{AB}$ | Enables an integral to be taken on the distorted horizon surface |\n",
    "| $R_S$ | Horizon Ricci scalar |   | Measures curvature on the apparent horizon surface |"
   ]
  },
  {
   "cell_type": "markdown",
   "metadata": {},
   "source": [
    "### Step 1: Horizon Data Extraction and Preparation"
   ]
  },
  {
   "cell_type": "markdown",
   "metadata": {},
   "source": [
    "The first step is to get all the surface data from BH@HAHA and the necessary spacetime data (probably from the simulation itself)\n",
    "\n",
    "*   **Horizon Shape Data**: `BH@HAHA` produces ASCII data files, typically named like `h.t<timestep>.ah<horizon_num>.gp`, which describe the shape of the horizon. These files contain a set of Cartesian points on the surface, but might need to be reorganized/shaped by their angular coordinates ($\\theta$, $\\phi$). I believe a function from the visualization script should already do most of this.\n",
    "*   **3D Grid Function Data**: The simulation evolves the spacetime geometry, storing the results on 3D grids. The essential values for this analysis are the components of the 3D spatial metric, $g_{ab}$ (e.g., `gxx`, `gxy`, etc.), the extrinsic curvature, $K_{ab}$ (e.g., `kxx`, `kxy`, etc.), and the induced metric $q_{AB}$ (e.g., `qthetatheta`, `qthetaphi`, etc.).\n",
    "*   **Interpolation**: This is a critical linking step. The metric and extrinsic curvature data exist on the vertices of a 3D computational grid, while the spin calculation requires their values *on* the 2D horizon surface. Therefore, the 3D grid functions must be interpolated to the $(x, y, z)$ locations of the horizon surface points extracted in the previous step. This procedure yields discrete sets of values for $g_{ab}$ and $K_{ab}$ at each point on the horizon surface."
   ]
  },
  {
   "cell_type": "markdown",
   "metadata": {},
   "source": [
    "### Step 2: Finding the Approximate Axial Symmetry Vector"
   ]
  },
  {
   "cell_type": "markdown",
   "metadata": {},
   "source": [
    "The components of the spin vector, $J_i$, in the background Cartesian basis are given by the surface integral:\n",
    "\n",
    "$$\n",
    "J^i = \\frac{1}{8\\pi} \\int_{\\mathcal{H}} \\varpi \\, \\left( \\varepsilon^{AB} D_A \\phi^i_B \\right) dA\n",
    "$$\n",
    "\n",
    "where $\\mathcal{H}$ is the 2-dimensional apparent horizon surface. The quantities in this integral are defined and computed as follows.\n",
    "\n",
    "#### Step 1: Solving for the Potential $\\varpi$\n",
    "\n",
    "The scalar potential $\\varpi$ is obtained by solving the following 2D elliptic (Poisson) equation on $\\mathcal{H}$:\n",
    "\n",
    "$$\n",
    "D^2 \\varpi = \\Omega\n",
    "$$\n",
    "\n",
    "-   **Source Term $\\Omega$**: This is the curl of the vector field $\\omega_A$ on the surface:\n",
    "    $$\\Omega = \\varepsilon^{AB} D_A \\omega_B$$\n",
    "    \n",
    "-   **Vector Field $\\omega_A$**: This is the projection onto $\\mathcal{H}$ of the spatial vector field $\\omega_a$, which is related to the canonical momentum of the gravitational field:\n",
    "    $$\n",
    "    \\omega_A = h_A^a \\, \\omega_a\n",
    "    $$\n",
    "    where\n",
    "    $$\n",
    "    \\omega_a = (K_{ab} - K g_{ab}) s^b\n",
    "    $$\n",
    "\n",
    "**Implementation Note:** The source term $\\Omega$ is a total derivative, so its integral over the closed surface $\\mathcal{H}$ is zero ($\\int_\\mathcal{H} \\Omega \\, dA = 0$), which is the necessary condition for the Poisson equation to have a solution. The solution for $\\varpi$ is unique up to an additive constant. This freedom is fixed by imposing the condition $\\int_\\mathcal{H} \\varpi \\, dA = 0$.\n",
    "\n",
    "#### Step 2: The Rotation Generator Term\n",
    "\n",
    "The other part of the integrand is the curl of the projected coordinate rotation generator, $\\phi_{iB}$:\n",
    "\n",
    "$$\n",
    "\\text{curl}(\\phi^i)_{\\mathcal{H}} = \\varepsilon^{AB} D_A \\phi^i_B\n",
    "$$\n",
    "\n",
    "-   **Rotation Generator $\\phi^i_A$**: The paper shows that the best results are obtained using rotation generators constructed from the spatial vectors $\\partial_k$. In component form, this is:\n",
    "    $$\n",
    "    \\vec{\\phi}_i = \\eta{ij}^k (x^j - x_{0}^j) \\vec{\\partial_k}\n",
    "    $$\n",
    "    where $i \\in \\{1,2,3\\}$ labels the spin component being calculated, $x_{0}^k$ is a selected centroid (there's a function in BHaHAHA for this already), and the index $A$ is an angular index.\n",
    "    \n",
    "\n",
    "The term $\\varepsilon^{AB} D_A \\phi^i_B$ must be computed numerically, requiring surface derivatives of the projected vector field $\\phi^i_B$."
   ]
  },
  {
   "cell_type": "markdown",
   "metadata": {},
   "source": [
    "### Step 3: Spin Vector and Christodoulou-Ruffini Mass Calculation"
   ]
  },
  {
   "cell_type": "markdown",
   "metadata": {},
   "source": [
    "The integral is evaluated numerically. This involves discretizing the horizon surface, calculating the value of the integrand $\\omega_B \\phi^B$ at each discrete point, multiplying by the area element $\\Delta A$ of the corresponding surface patch, and summing the results over the entire surface. A good example can be found in `bah_diagnostics_area_centroid_and_Theta_norms()`.\n",
    "\n",
    "$J$ also goes into the Christodoulou-Ruffini formula for the mass-energy of a rotating BH, which uses the irreducible/areal mass of the BH, also calculated by BH@HAHA based on the surface area of the AH. The formula is below and should be straightforward to implement:\n",
    "\n",
    "$$M^2 = M_{irr}^2 + \\frac{J^2}{4M_{irr}^2}$$ "
   ]
  },
  {
   "cell_type": "markdown",
   "metadata": {},
   "source": [
    "## Part 3: Execution and Visualization"
   ]
  },
  {
   "cell_type": "markdown",
   "metadata": {},
   "source": [
    "This functionality will be added via a Python/NRPy file quasi_local_mass_spin.py, using function `register_CFunction_diagnostics_quasi_local_mass_spin()`. This will generate a C function file that implements an iterative elliptic solver for the coupled system of equations for (v, L), and then uses the result to perform the final spin integration.\n",
    "\n",
    "The ability to visualize spin is already included in the new_vis_styles.py script of the `bh_vis` repo. All that's needed is a Cartesian vector, which should be easy to output from BH@HAHA in the diagnostics file of each AH."
   ]
  }
 ],
 "metadata": {
  "kernelspec": {
   "display_name": "Python 3",
   "language": "python",
   "name": "python3"
  },
  "language_info": {
   "codemirror_mode": {
    "name": "ipython",
    "version": 3
   },
   "file_extension": ".py",
   "mimetype": "text/x-python",
   "name": "python",
   "nbconvert_exporter": "python",
   "pygments_lexer": "ipython3",
   "version": "3.8.8"
  }
 },
 "nbformat": 4,
 "nbformat_minor": 4
}
